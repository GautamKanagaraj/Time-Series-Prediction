{
 "cells": [
  {
   "cell_type": "code",
   "execution_count": null,
   "metadata": {},
   "outputs": [],
   "source": [
    "import numpy as np\n",
    "import pandas as pd\n",
    "import os\n",
    "import matplotlib.pyplot as plt\n",
    "import math\n",
    "from sklearn.preprocessing import MinMaxScaler, StandardScaler, RobustScaler\n",
    "from sklearn.metrics import mean_squared_error\n",
    "from sklearn.decomposition import PCA"
   ]
  },
  {
   "cell_type": "code",
   "execution_count": null,
   "metadata": {},
   "outputs": [],
   "source": [
    "os.chdir('..')"
   ]
  },
  {
   "cell_type": "code",
   "execution_count": null,
   "metadata": {},
   "outputs": [],
   "source": [
    "os.getcwd()"
   ]
  },
  {
   "cell_type": "code",
   "execution_count": null,
   "metadata": {},
   "outputs": [],
   "source": [
    "col_arr = [0]*54\n",
    "for i in range(0,54):\n",
    "    col_arr[i] = i\n",
    "\n",
    "path1 ='data/Day1/Post/DataFeatures1.csv'\n",
    "path2 ='data/Day2/Post1/DataFeatures2.csv' \n",
    "path3 ='data/Day2/Post2/DataFeatures.csv' \n",
    "path4 ='data/Day3/Post/DataFeatures4.csv'\n",
    "path5 ='data/Day4/Post/DataFeatures.csv'\n",
    "\n",
    "df1=(pd.read_csv(path1 ,header = None, usecols = col_arr))\n",
    "df2=(pd.read_csv(path2 ,header = None, usecols = col_arr))\n",
    "df3=(pd.read_csv(path3 ,header = None, usecols = col_arr))\n",
    "df4=(pd.read_csv(path4 ,header = None, usecols = col_arr))\n",
    "df5=(pd.read_csv(path5 ,header = None, usecols = col_arr))"
   ]
  },
  {
   "cell_type": "code",
   "execution_count": null,
   "metadata": {},
   "outputs": [],
   "source": [
    "df1 = np.array(df1)\n",
    "df2 = np.array(df2)\n",
    "df3 = np.array(df3)\n",
    "df4 = np.array(df4)\n",
    "df5 = np.array(df5)"
   ]
  },
  {
   "cell_type": "code",
   "execution_count": null,
   "metadata": {},
   "outputs": [],
   "source": [
    "df = np.concatenate((df1, df2, df3, df4, df5))\n",
    "df = pd.DataFrame(df)\n",
    "df = df.fillna(0)"
   ]
  },
  {
   "cell_type": "code",
   "execution_count": null,
   "metadata": {},
   "outputs": [],
   "source": [
    "f = [i for i in range(1, 53)]\n",
    "y = df[53]\n",
    "x = df[f]\n",
    "x = np.array(x)\n",
    "y = np.array(y)\n",
    "y = np.expand_dims(y, axis=1)\n",
    "\n",
    "x = x[:-520]\n",
    "y = y[:-520]"
   ]
  },
  {
   "cell_type": "code",
   "execution_count": null,
   "metadata": {},
   "outputs": [],
   "source": [
    "print(x.shape)\n",
    "print(y.shape)"
   ]
  },
  {
   "cell_type": "code",
   "execution_count": null,
   "metadata": {},
   "outputs": [],
   "source": [
    "cv_split = 0.2\n",
    "len_train = int( x.shape[0] * (1 - cv_split) )\n",
    "len_CV = int( x.shape[0] * cv_split )\n",
    "\n",
    "X_train = x[0 : len_train]\n",
    "Y_train = y[0 : len_train]\n",
    "X_CV = x[len_train : ]\n",
    "Y_CV = y[len_train : ]\n",
    "\n",
    "print(X_train.shape)\n",
    "print(Y_train.shape)\n",
    "print(X_CV.shape)\n",
    "print(Y_CV.shape)"
   ]
  },
  {
   "cell_type": "code",
   "execution_count": null,
   "metadata": {},
   "outputs": [],
   "source": [
    "plt.plot(Y_train[0:3000])\n",
    "plt.xlabel('Timestamp')\n",
    "plt.ylabel('Breaths/min')\n",
    "plt.title('Respiratory Rate (Zoomed)')\n",
    "#plt.savefig('assets/RR_zoomed.png', dpi=1200)"
   ]
  },
  {
   "cell_type": "code",
   "execution_count": null,
   "metadata": {},
   "outputs": [],
   "source": [
    "plt.plot(Y_train)\n",
    "plt.xlabel('Timestamp')\n",
    "plt.ylabel('Breaths/min')\n",
    "plt.title('Respiratory Rate (Total)')\n",
    "#plt.savefig('assets/RR_total.png', dpi=1200)"
   ]
  },
  {
   "cell_type": "code",
   "execution_count": null,
   "metadata": {},
   "outputs": [],
   "source": [
    "grad = np.gradient(Y_train[:,0])\n",
    "abs_grad = np.absolute(grad)"
   ]
  },
  {
   "cell_type": "code",
   "execution_count": null,
   "metadata": {},
   "outputs": [],
   "source": [
    "plt.plot(abs_grad)\n",
    "plt.title('Derivative')\n",
    "plt.xlabel('Time')\n",
    "plt.ylabel('Respiratory Rate')\n",
    "#plt.savefig('assets/grad.png', dpi=1200)"
   ]
  },
  {
   "cell_type": "code",
   "execution_count": null,
   "metadata": {},
   "outputs": [],
   "source": [
    "thresh = 5 \n",
    "for i in range(abs_grad.shape[0]):\n",
    "    if(abs_grad[i] < thresh):\n",
    "        abs_grad[i] = 0\n",
    "\n",
    "plt.axhline(y=thresh, color='r', linestyle='-')\n",
    "plt.plot(abs_grad)\n",
    "plt.title('Derivative')\n",
    "plt.xlabel('Time')\n",
    "plt.ylabel('Respiratory Rate')\n",
    "#plt.savefig('assets/grad_thresh.png', dpi=1200)"
   ]
  },
  {
   "cell_type": "code",
   "execution_count": null,
   "metadata": {},
   "outputs": [],
   "source": [
    "np.nonzero(abs_grad)"
   ]
  },
  {
   "cell_type": "code",
   "execution_count": null,
   "metadata": {},
   "outputs": [],
   "source": [
    "X_train1 = X_train[  0   : 24270]\n",
    "Y_train1 = Y_train[  0   : 24270]\n",
    "\n",
    "X_train2 = X_train[25500 : 47600]\n",
    "Y_train2 = Y_train[25500 : 47600]\n",
    "\n",
    "X_train3 = X_train[50000 : 91300]\n",
    "Y_train3 = Y_train[50000 : 91300]\n",
    "\n",
    "plt.subplot(3,1,1)\n",
    "plt.plot(Y_train1)\n",
    "\n",
    "plt.subplot(3,1,2)\n",
    "plt.plot(Y_train2)\n",
    "plt.ylabel('Respiratory Rate')\n",
    "\n",
    "plt.subplot(3,1,3)\n",
    "plt.plot(Y_train3)\n",
    "plt.xlabel('Timestamps')\n",
    "\n",
    "plt.savefig('assets/sets.png')"
   ]
  },
  {
   "cell_type": "code",
   "execution_count": null,
   "metadata": {},
   "outputs": [],
   "source": [
    "pca = PCA()\n",
    "pca.fit(X_train1)\n",
    "pca.fit(X_train2)\n",
    "pca.fit(X_train3)\n",
    "\n",
    "print(pca.explained_variance_ratio_)\n",
    "print(\"\\n\")\n",
    "print(pca.explained_variance_ratio_.cumsum())"
   ]
  },
  {
   "cell_type": "code",
   "execution_count": null,
   "metadata": {},
   "outputs": [],
   "source": [
    "n_components = 10\n",
    "pca = PCA(n_components=n_components)\n",
    "\n",
    "pca.fit(X_train1)\n",
    "pca.fit(X_train2)\n",
    "pca.fit(X_train3)\n",
    "\n",
    "x1_pca = pca.transform(X_train1)\n",
    "x2_pca = pca.transform(X_train2)\n",
    "x3_pca = pca.transform(X_train3)\n",
    "\n",
    "print(x1_pca.shape)\n",
    "print(x2_pca.shape)\n",
    "print(x3_pca.shape)"
   ]
  },
  {
   "cell_type": "code",
   "execution_count": null,
   "metadata": {},
   "outputs": [],
   "source": [
    "# Zero Mean and Unit Variance\n",
    "scalerX = StandardScaler()\n",
    "scalerX.fit(x1_pca)\n",
    "scalerX.fit(x2_pca)\n",
    "scalerX.fit(x3_pca)\n",
    "\n",
    "x1 = scalerX.transform(x1_pca)\n",
    "x2 = scalerX.transform(x2_pca)\n",
    "x3 = scalerX.transform(x3_pca)"
   ]
  },
  {
   "cell_type": "code",
   "execution_count": null,
   "metadata": {},
   "outputs": [],
   "source": [
    "# Apply same transformations in the test/Cross-Validation data\n",
    "X_CV = pca.transform(X_CV)\n",
    "X_CV = scalerX.transform(X_CV)"
   ]
  },
  {
   "cell_type": "code",
   "execution_count": null,
   "metadata": {},
   "outputs": [],
   "source": []
  },
  {
   "cell_type": "code",
   "execution_count": null,
   "metadata": {},
   "outputs": [],
   "source": []
  },
  {
   "cell_type": "code",
   "execution_count": null,
   "metadata": {},
   "outputs": [],
   "source": []
  },
  {
   "cell_type": "code",
   "execution_count": null,
   "metadata": {},
   "outputs": [],
   "source": []
  },
  {
   "cell_type": "code",
   "execution_count": null,
   "metadata": {},
   "outputs": [],
   "source": []
  },
  {
   "cell_type": "code",
   "execution_count": null,
   "metadata": {},
   "outputs": [],
   "source": []
  },
  {
   "cell_type": "code",
   "execution_count": null,
   "metadata": {},
   "outputs": [],
   "source": []
  },
  {
   "cell_type": "code",
   "execution_count": null,
   "metadata": {},
   "outputs": [],
   "source": []
  },
  {
   "cell_type": "code",
   "execution_count": null,
   "metadata": {},
   "outputs": [],
   "source": []
  },
  {
   "cell_type": "code",
   "execution_count": null,
   "metadata": {},
   "outputs": [],
   "source": []
  },
  {
   "cell_type": "code",
   "execution_count": null,
   "metadata": {},
   "outputs": [],
   "source": []
  },
  {
   "cell_type": "code",
   "execution_count": null,
   "metadata": {},
   "outputs": [],
   "source": []
  },
  {
   "cell_type": "code",
   "execution_count": null,
   "metadata": {},
   "outputs": [],
   "source": []
  },
  {
   "cell_type": "code",
   "execution_count": null,
   "metadata": {},
   "outputs": [],
   "source": []
  },
  {
   "cell_type": "code",
   "execution_count": null,
   "metadata": {},
   "outputs": [],
   "source": []
  },
  {
   "cell_type": "code",
   "execution_count": null,
   "metadata": {},
   "outputs": [],
   "source": []
  },
  {
   "cell_type": "code",
   "execution_count": null,
   "metadata": {},
   "outputs": [],
   "source": []
  }
 ],
 "metadata": {
  "kernelspec": {
   "display_name": "train",
   "language": "python",
   "name": "train"
  },
  "language_info": {
   "codemirror_mode": {
    "name": "ipython",
    "version": 3
   },
   "file_extension": ".py",
   "mimetype": "text/x-python",
   "name": "python",
   "nbconvert_exporter": "python",
   "pygments_lexer": "ipython3",
   "version": "3.5.2"
  }
 },
 "nbformat": 4,
 "nbformat_minor": 2
}
