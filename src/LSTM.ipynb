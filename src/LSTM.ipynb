{
 "cells": [
  {
   "cell_type": "code",
   "execution_count": null,
   "metadata": {},
   "outputs": [],
   "source": [
    "import numpy as np\n",
    "import pandas as pd\n",
    "import os\n",
    "import matplotlib.pyplot as plt\n",
    "import math\n",
    "from sklearn.preprocessing import MinMaxScaler, StandardScaler, RobustScaler\n",
    "from sklearn.metrics import mean_squared_error\n",
    "from sklearn.decomposition import PCA"
   ]
  },
  {
   "cell_type": "code",
   "execution_count": null,
   "metadata": {},
   "outputs": [],
   "source": []
  },
  {
   "cell_type": "code",
   "execution_count": 2,
   "metadata": {},
   "outputs": [],
   "source": [
    "os.chdir('..')"
   ]
  },
  {
   "cell_type": "code",
   "execution_count": 3,
   "metadata": {},
   "outputs": [
    {
     "data": {
      "text/plain": [
       "'/home/suraj/Projects/Respiratory-Rate-Estimation'"
      ]
     },
     "execution_count": 3,
     "metadata": {},
     "output_type": "execute_result"
    }
   ],
   "source": [
    "os.getcwd()"
   ]
  },
  {
   "cell_type": "code",
   "execution_count": 4,
   "metadata": {},
   "outputs": [],
   "source": [
    "col_arr = [0]*54\n",
    "for i in range(0,54):\n",
    "    col_arr[i] = i\n",
    "\n",
    "path1 ='data/Day1/Post/DataFeatures1.csv'\n",
    "path2 ='data/Day2/Post1/DataFeatures2.csv' \n",
    "path3 ='data/Day2/Post2/DataFeatures.csv' \n",
    "path4 ='data/Day3/Post/DataFeatures4.csv'\n",
    "path5 ='data/Day4/Post/DataFeatures.csv'\n",
    "\n",
    "df1=(pd.read_csv(path1 ,header = None, usecols = col_arr))\n",
    "df2=(pd.read_csv(path2 ,header = None, usecols = col_arr))\n",
    "df3=(pd.read_csv(path3 ,header = None, usecols = col_arr))\n",
    "df4=(pd.read_csv(path4 ,header = None, usecols = col_arr))\n",
    "df5=(pd.read_csv(path5 ,header = None, usecols = col_arr))"
   ]
  },
  {
   "cell_type": "code",
   "execution_count": 5,
   "metadata": {},
   "outputs": [],
   "source": [
    "df1 = np.array(df1)\n",
    "df2 = np.array(df2)\n",
    "df3 = np.array(df3)\n",
    "df4 = np.array(df4)\n",
    "df5 = np.array(df5)"
   ]
  },
  {
   "cell_type": "code",
   "execution_count": 6,
   "metadata": {},
   "outputs": [],
   "source": [
    "df = np.concatenate((df1, df2, df3, df4, df5))\n",
    "df = pd.DataFrame(df)\n",
    "df = df.fillna(0)"
   ]
  },
  {
   "cell_type": "code",
   "execution_count": 7,
   "metadata": {},
   "outputs": [],
   "source": [
    "f = [i for i in range(1, 53)]\n",
    "y = df[53]\n",
    "x = df[f]\n",
    "x = np.array(x)\n",
    "y = np.array(y)\n",
    "y = np.expand_dims(y, axis=1)\n",
    "\n",
    "x = x[:-520]\n",
    "y = y[:-520]"
   ]
  },
  {
   "cell_type": "code",
   "execution_count": null,
   "metadata": {},
   "outputs": [],
   "source": []
  },
  {
   "cell_type": "code",
   "execution_count": 8,
   "metadata": {},
   "outputs": [
    {
     "name": "stdout",
     "output_type": "stream",
     "text": [
      "(115098, 52)\n",
      "(115098, 1)\n"
     ]
    }
   ],
   "source": [
    "print(x.shape)\n",
    "print(y.shape)"
   ]
  },
  {
   "cell_type": "code",
   "execution_count": 23,
   "metadata": {},
   "outputs": [
    {
     "data": {
      "image/png": "[encoded data removed]",
      "text/plain": [
       "<Figure size 432x288 with 1 Axes>"
      ]
     },
     "metadata": {},
     "output_type": "display_data"
    }
   ],
   "source": [
    "plt.plot(y)\n",
    "plt.xlabel('Timestamp')\n",
    "plt.ylabel('Breaths/min')\n",
    "plt.title('Respiratory Rate')\n",
    "plt.savefig('assets/fig2.png')"
   ]
  },
  {
   "cell_type": "code",
   "execution_count": 18,
   "metadata": {},
   "outputs": [],
   "source": [
    "y_1d = y[:,0]\n",
    "thresh = 5\n",
    "grad = np.gradient(y_1d)\n",
    "abs_grad = np.absolute(grad)\n",
    "for i in range(abs_grad.shape[0]):\n",
    "    if(abs_grad[i] < thresh):\n",
    "        abs_grad[i] = 0"
   ]
  },
  {
   "cell_type": "code",
   "execution_count": 20,
   "metadata": {},
   "outputs": [
    {
     "data": {
      "text/plain": [
       "Text(0,0.5,'Respiratory Rate')"
      ]
     },
     "execution_count": 20,
     "metadata": {},
     "output_type": "execute_result"
    },
    {
     "data": {
      "image/png": "[encoded data removed]",
      "text/plain": [
       "<Figure size 432x288 with 1 Axes>"
      ]
     },
     "metadata": {},
     "output_type": "display_data"
    }
   ],
   "source": [
    "plt.plot(abs_grad)\n",
    "plt.title('Derivative')\n",
    "plt.xlabel('Time')\n",
    "plt.ylabel('Respiratory Rate')\n",
    "#abs_grad.shape"
   ]
  },
  {
   "cell_type": "code",
   "execution_count": null,
   "metadata": {},
   "outputs": [],
   "source": [
    "pca = PCA()\n",
    "pca.fit(x)\n",
    "print(pca.explained_variance_ratio_)\n",
    "print(\"\\n\")\n",
    "print(pca.explained_variance_ratio_.cumsum())"
   ]
  },
  {
   "cell_type": "code",
   "execution_count": null,
   "metadata": {},
   "outputs": [],
   "source": [
    "n_components = 12\n",
    "pca = PCA(n_components=n_components)\n",
    "pca.fit(x)\n",
    "x_pca = pca.transform(x)\n",
    "print(x_pca.shape)"
   ]
  },
  {
   "cell_type": "code",
   "execution_count": null,
   "metadata": {},
   "outputs": [],
   "source": [
    "scalerX = StandardScaler()\n",
    "scalerX.fit(x_pca)\n",
    "x_scaled = scalerX.transform(x_pca)"
   ]
  },
  {
   "cell_type": "code",
   "execution_count": null,
   "metadata": {},
   "outputs": [],
   "source": [
    "scalerY = StandardScaler()\n",
    "scalerY.fit(y)\n",
    "y_scaled = scalerY.transform(y)"
   ]
  },
  {
   "cell_type": "code",
   "execution_count": null,
   "metadata": {},
   "outputs": [],
   "source": [
    "X = x_scaled\n",
    "Y = y_scaled"
   ]
  },
  {
   "cell_type": "code",
   "execution_count": null,
   "metadata": {},
   "outputs": [],
   "source": [
    "split = 0.10\n",
    "len_train = int( X.shape[0]*(1-split) )\n",
    "len_CV = int(X.shape[0]*split)\n",
    "x_train = X[0:len_train]\n",
    "y_train = Y[0:len_train]\n",
    "x_CV = X[len_train: ]\n",
    "y_CV = Y[len_train: ]\n",
    "\n",
    "print(x_train.shape)\n",
    "print(y_train.shape)\n",
    "print(x_CV.shape)\n",
    "print(y_CV.shape)"
   ]
  },
  {
   "cell_type": "code",
   "execution_count": null,
   "metadata": {},
   "outputs": [],
   "source": [
    "num_features = x_train.shape[1]"
   ]
  },
  {
   "cell_type": "markdown",
   "metadata": {},
   "source": [
    "Training a simple Neural Net model to reduce the number of dimensions from 29 to 1"
   ]
  },
  {
   "cell_type": "code",
   "execution_count": null,
   "metadata": {},
   "outputs": [],
   "source": [
    "batch_size = 8\n",
    "epochs = 20\n",
    "modelPreTrained = []\n",
    "\n",
    "if(not os.path.isfile('modelPreTrained.json')):\n",
    "    modelPreTrained = Sequential()\n",
    "    modelPreTrained.add(Dense(64, input_dim=num_features, activation='relu' ))\n",
    "    modelPreTrained.add(Dropout(0.2)) \n",
    "    modelPreTrained.add(Dense(32, activation='relu'))\n",
    "    modelPreTrained.add(Dropout(0.2)) \n",
    "    modelPreTrained.add(Dense(8, activation='relu'))\n",
    "    modelPreTrained.add(Dropout(0.2)) \n",
    "    modelPreTrained.add(Dense(1))\n",
    "    print('Created new model') \n",
    "else:\n",
    "    json_file = open('modelPreTrained.json', 'r')\n",
    "    loaded_model_json = json_file.read()\n",
    "    json_file.close()\n",
    "    modelPreTrained = model_from_json(loaded_model_json)\n",
    "    modelPreTrained.load_weights(\"modelPreTrained.h5\")\n",
    "    print(\"Loaded modelPreTrained from disk\")     \n",
    "\n",
    "modelPreTrained.compile(loss='mse', optimizer='adam', metrics=['mse'])"
   ]
  },
  {
   "cell_type": "code",
   "execution_count": null,
   "metadata": {
    "scrolled": true
   },
   "outputs": [],
   "source": [
    "hist_obj = modelPreTrained.fit(x_train, y_train, validation_data=[x_CV, y_CV], epochs=epochs, batch_size=batch_size)"
   ]
  },
  {
   "cell_type": "code",
   "execution_count": null,
   "metadata": {},
   "outputs": [],
   "source": [
    "modelPreTrained_json = modelPreTrained.to_json()\n",
    "with open(\"modelPreTrained.json\", \"w\") as json_file:\n",
    "    json_file.write(modelPreTrained_json)\n",
    "# serialize weights to HDF5\n",
    "modelPreTrained.save_weights(\"modelPreTrained.h5\")\n",
    "print(\"Saved modelPreTrained to disk\")"
   ]
  },
  {
   "cell_type": "code",
   "execution_count": null,
   "metadata": {},
   "outputs": [],
   "source": [
    "train_loss = hist_obj.history['loss']\n",
    "train_mse = hist_obj.history['mean_squared_error']\n",
    "val_loss = hist_obj.history['val_loss']\n",
    "val_mse = hist_obj.history['val_mean_squared_error']"
   ]
  },
  {
   "cell_type": "code",
   "execution_count": null,
   "metadata": {},
   "outputs": [],
   "source": [
    "fig1 = plt.figure()\n",
    "plt.plot(train_loss)\n",
    "plt.plot(val_loss)\n",
    "plt.legend(['Train','Val'], loc='upper right')\n",
    "plt.xlabel('Epoch')\n",
    "plt.ylabel('Loss')\n",
    "plt.title('Model Loss')\n",
    "plt.show()"
   ]
  },
  {
   "cell_type": "code",
   "execution_count": null,
   "metadata": {},
   "outputs": [],
   "source": [
    "fig2 = plt.figure()\n",
    "plt.plot(train_mse)\n",
    "plt.plot(val_mse)\n",
    "plt.legend(['Train','Val'], loc='upper right')\n",
    "plt.xlabel('Epoch')\n",
    "plt.ylabel('MSE')\n",
    "plt.title('Model MSE')\n",
    "plt.show()"
   ]
  },
  {
   "cell_type": "code",
   "execution_count": null,
   "metadata": {},
   "outputs": [],
   "source": [
    "y_pred_CV = modelPreTrained.predict(x_CV)"
   ]
  },
  {
   "cell_type": "code",
   "execution_count": null,
   "metadata": {},
   "outputs": [],
   "source": [
    "prediction = scalerY.inverse_transform(y_pred_CV)\n",
    "original = scalerY.inverse_transform(y_CV)\n",
    "print(mean_squared_error(original, prediction))"
   ]
  },
  {
   "cell_type": "code",
   "execution_count": null,
   "metadata": {},
   "outputs": [],
   "source": [
    "plt.plot(original)\n",
    "#plt.plot(prediction)"
   ]
  },
  {
   "cell_type": "code",
   "execution_count": null,
   "metadata": {},
   "outputs": [],
   "source": []
  },
  {
   "cell_type": "code",
   "execution_count": null,
   "metadata": {},
   "outputs": [],
   "source": []
  },
  {
   "cell_type": "code",
   "execution_count": null,
   "metadata": {},
   "outputs": [],
   "source": []
  },
  {
   "cell_type": "code",
   "execution_count": null,
   "metadata": {},
   "outputs": [],
   "source": []
  },
  {
   "cell_type": "code",
   "execution_count": null,
   "metadata": {},
   "outputs": [],
   "source": []
  },
  {
   "cell_type": "code",
   "execution_count": null,
   "metadata": {},
   "outputs": [],
   "source": []
  },
  {
   "cell_type": "markdown",
   "metadata": {},
   "source": [
    "LSTM implementation"
   ]
  },
  {
   "cell_type": "code",
   "execution_count": null,
   "metadata": {},
   "outputs": [],
   "source": [
    "X_train = x_train #modelPreTrained.predict(x_train)\n",
    "Y_train = y_train\n",
    "\n",
    "X_CV = x_CV#modelPreTrained.predict(x_CV)\n",
    "Y_CV = y_CV\n",
    "look_back = 20"
   ]
  },
  {
   "cell_type": "code",
   "execution_count": null,
   "metadata": {},
   "outputs": [],
   "source": [
    "print(X_train.shape)\n",
    "print(X_CV.shape)\n",
    "\n",
    "len_train = X_train.shape[0]\n",
    "len_CV = X_CV.shape[0]"
   ]
  },
  {
   "cell_type": "code",
   "execution_count": null,
   "metadata": {},
   "outputs": [],
   "source": [
    "len_train = X_train.shape[0]\n",
    "len_CV = X_CV.shape[0]\n",
    "print(X_train.shape)\n",
    "print(Y_train.shape)\n",
    "print(X_CV.shape)\n",
    "print(Y_CV.shape)\n"
   ]
  },
  {
   "cell_type": "code",
   "execution_count": null,
   "metadata": {},
   "outputs": [],
   "source": [
    "trainX, trainY = [], []\n",
    "testX, testY = [], []\n",
    "\n",
    "for i in range(0,len_train-look_back):\n",
    "    trainX.append(X_train[i:i+look_back, :])\n",
    "    trainY.append(Y_train[i+look_back, 0])\n",
    "\n",
    "for i in range(0,len_CV-look_back):\n",
    "    testX.append(X_CV[i:i+look_back, :])\n",
    "    testY.append(Y_CV[i+look_back, 0])\n",
    "    \n",
    "    \n",
    "trainX = np.array(trainX)\n",
    "trainY = np.array(trainY)\n",
    "testX = np.array(testX)\n",
    "testY = np.array(testY)\n",
    "\n",
    "print(trainX.shape)\n",
    "print(trainY.shape)\n",
    "print(testX.shape)\n",
    "print(testY.shape)\n",
    "\n",
    "input_dims = trainX.shape[2]"
   ]
  },
  {
   "cell_type": "code",
   "execution_count": null,
   "metadata": {},
   "outputs": [],
   "source": [
    "print(trainX.shape)\n",
    "print(trainY.shape)\n",
    "print(input_dims)"
   ]
  },
  {
   "cell_type": "code",
   "execution_count": null,
   "metadata": {},
   "outputs": [],
   "source": [
    "model = []\n",
    "if(not os.path.isfile('model.json')):\n",
    "    model = Sequential()\n",
    "    model.add(LSTM(64, input_shape=[None, input_dims]))\n",
    "    model.add(Dropout(0.2))\n",
    "    model.add(Dense(32, activation='relu'))\n",
    "    model.add(Dropout(0.2))\n",
    "    model.add(Dense(8, activation='relu'))\n",
    "    model.add(Dense(1))\n",
    "    print('Created new model') \n",
    "else:\n",
    "    json_file = open('model.json', 'r')\n",
    "    loaded_model_json = json_file.read()\n",
    "    json_file.close()\n",
    "    model = model_from_json(loaded_model_json)\n",
    "    model.load_weights(\"model.h5\")\n",
    "    print(\"Loaded model from disk\")     \n",
    "\n",
    "model.compile(loss='mean_squared_error', optimizer=\"adam\", metrics=['mse'])\n",
    "model.summary()"
   ]
  },
  {
   "cell_type": "code",
   "execution_count": null,
   "metadata": {},
   "outputs": [],
   "source": [
    "hist_obj = model.fit(trainX, trainY, validation_data=[testX, testY], epochs=10, batch_size=8, verbose=1)"
   ]
  },
  {
   "cell_type": "code",
   "execution_count": null,
   "metadata": {},
   "outputs": [],
   "source": [
    "model_json = model.to_json()\n",
    "with open(\"model.json\", \"w\") as json_file:\n",
    "    json_file.write(model_json)\n",
    "# serialize weights to HDF5\n",
    "model.save_weights(\"model.h5\")\n",
    "print(\"Saved model to disk\")"
   ]
  },
  {
   "cell_type": "code",
   "execution_count": null,
   "metadata": {},
   "outputs": [],
   "source": [
    "train_loss = hist_obj.history['loss']\n",
    "train_mse = hist_obj.history['mean_squared_error']\n",
    "val_loss = hist_obj.history['val_loss']\n",
    "val_mse = hist_obj.history['val_mean_squared_error']"
   ]
  },
  {
   "cell_type": "code",
   "execution_count": null,
   "metadata": {},
   "outputs": [],
   "source": [
    "fig1 = plt.figure()\n",
    "plt.plot(train_loss)\n",
    "plt.plot(val_loss)\n",
    "plt.legend(['Train','Val'], loc='upper right')\n",
    "plt.xlabel('Epoch')\n",
    "plt.ylabel('Loss')\n",
    "plt.title('Model Loss')\n",
    "plt.show()"
   ]
  },
  {
   "cell_type": "code",
   "execution_count": null,
   "metadata": {},
   "outputs": [],
   "source": [
    "fig2 = plt.figure()\n",
    "plt.plot(train_mse)\n",
    "plt.plot(val_mse)\n",
    "plt.legend(['Train','Val'], loc='upper right')\n",
    "plt.xlabel('Epoch')\n",
    "plt.ylabel('MSE')\n",
    "plt.title('Model MSE')\n",
    "plt.show()"
   ]
  },
  {
   "cell_type": "code",
   "execution_count": null,
   "metadata": {},
   "outputs": [],
   "source": [
    "y_pred_CV = model.predict(testX)\n",
    "prediction = scalerY.inverse_transform(y_pred_CV)\n",
    "original = scalerY.inverse_transform(testY)\n",
    "print(mean_squared_error(original, prediction))"
   ]
  },
  {
   "cell_type": "code",
   "execution_count": null,
   "metadata": {},
   "outputs": [],
   "source": [
    "s = 0\n",
    "e = len(prediction)\n",
    "plt.plot(original[s:e])\n",
    "plt.plot(prediction[s:e])"
   ]
  },
  {
   "cell_type": "code",
   "execution_count": null,
   "metadata": {},
   "outputs": [],
   "source": []
  },
  {
   "cell_type": "code",
   "execution_count": null,
   "metadata": {},
   "outputs": [],
   "source": []
  },
  {
   "cell_type": "code",
   "execution_count": null,
   "metadata": {},
   "outputs": [],
   "source": []
  },
  {
   "cell_type": "code",
   "execution_count": null,
   "metadata": {},
   "outputs": [],
   "source": []
  }
 ],
 "metadata": {
  "kernelspec": {
   "display_name": "train",
   "language": "python",
   "name": "train"
  },
  "language_info": {
   "codemirror_mode": {
    "name": "ipython",
    "version": 3
   },
   "file_extension": ".py",
   "mimetype": "text/x-python",
   "name": "python",
   "nbconvert_exporter": "python",
   "pygments_lexer": "ipython3",
   "version": "3.5.2"
  }
 },
 "nbformat": 4,
 "nbformat_minor": 2
}
